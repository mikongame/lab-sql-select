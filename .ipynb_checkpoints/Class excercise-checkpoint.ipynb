{
 "cells": [
  {
   "cell_type": "markdown",
   "metadata": {},
   "source": [
    "De la db publications. Saca los authors que han publicado +1 libro e indica cuantos libros se han vendido."
   ]
  },
  {
   "cell_type": "code",
   "execution_count": 7,
   "metadata": {},
   "outputs": [],
   "source": [
    "import os\n",
    "os.environ[\"GOOGLE_APPLICATION_CREDENTIALS\"]=\"/Users/Miguel/Documents/GitHub/Ironhack exercises/Modulo 1/ironhack_service_account_big_query.json\"\n",
    "from google.cloud import bigquery"
   ]
  },
  {
   "cell_type": "code",
   "execution_count": 8,
   "metadata": {},
   "outputs": [],
   "source": [
    "client = bigquery.Client()"
   ]
  },
  {
   "cell_type": "code",
   "execution_count": 12,
   "metadata": {},
   "outputs": [],
   "source": [
    "sql=\"\"\"\n",
    "WITH authors_fil AS\n",
    "(SELECT\n",
    "  au_id,\n",
    "  COUNT(DISTINCT title_id) AS titles_vol\n",
    "FROM\n",
    "  `ironhack-data-analytics-265219.publications.titleauthor`\n",
    "GROUP BY 1\n",
    "HAVING  COUNT(DISTINCT title_id)>1)\n",
    "    SELECT\n",
    "      authors.au_fname,\n",
    "      authors.au_lname,\n",
    "      SUM(qty) AS total_quantity_sold\n",
    "    FROM\n",
    "      authors_fil\n",
    "    JOIN\n",
    "      `ironhack-data-analytics-265219.publications.authors` authors\n",
    "    ON\n",
    "      authors.au_id = authors_fil.au_id\n",
    "    JOIN\n",
    "       `ironhack-data-analytics-265219.publications.titleauthor` titleauthor\n",
    "    ON\n",
    "      titleauthor.au_id = authors.au_id\n",
    "    JOIN\n",
    "       `ironhack-data-analytics-265219.publications.sales` sales\n",
    "    ON\n",
    "      titleauthor.title_id = sales.title_id\n",
    "    GROUP BY 1,2\n",
    "    \"\"\""
   ]
  },
  {
   "cell_type": "code",
   "execution_count": 13,
   "metadata": {},
   "outputs": [],
   "source": [
    "query_job_1= client.query(query=sql)"
   ]
  },
  {
   "cell_type": "code",
   "execution_count": 14,
   "metadata": {},
   "outputs": [],
   "source": [
    "dataframe_1 = query_job_1.to_dataframe()"
   ]
  },
  {
   "cell_type": "code",
   "execution_count": 15,
   "metadata": {},
   "outputs": [
    {
     "data": {
      "text/html": [
       "<div>\n",
       "<style scoped>\n",
       "    .dataframe tbody tr th:only-of-type {\n",
       "        vertical-align: middle;\n",
       "    }\n",
       "\n",
       "    .dataframe tbody tr th {\n",
       "        vertical-align: top;\n",
       "    }\n",
       "\n",
       "    .dataframe thead th {\n",
       "        text-align: right;\n",
       "    }\n",
       "</style>\n",
       "<table border=\"1\" class=\"dataframe\">\n",
       "  <thead>\n",
       "    <tr style=\"text-align: right;\">\n",
       "      <th></th>\n",
       "      <th>au_fname</th>\n",
       "      <th>au_lname</th>\n",
       "      <th>total_quantity_sold</th>\n",
       "    </tr>\n",
       "  </thead>\n",
       "  <tbody>\n",
       "    <tr>\n",
       "      <td>0</td>\n",
       "      <td>Anne</td>\n",
       "      <td>Ringer</td>\n",
       "      <td>148</td>\n",
       "    </tr>\n",
       "    <tr>\n",
       "      <td>1</td>\n",
       "      <td>Marjorie</td>\n",
       "      <td>Green</td>\n",
       "      <td>50</td>\n",
       "    </tr>\n",
       "    <tr>\n",
       "      <td>2</td>\n",
       "      <td>Michael</td>\n",
       "      <td>O'Leary</td>\n",
       "      <td>45</td>\n",
       "    </tr>\n",
       "    <tr>\n",
       "      <td>3</td>\n",
       "      <td>Stearns</td>\n",
       "      <td>MacFeather</td>\n",
       "      <td>45</td>\n",
       "    </tr>\n",
       "    <tr>\n",
       "      <td>4</td>\n",
       "      <td>Albert</td>\n",
       "      <td>Ringer</td>\n",
       "      <td>133</td>\n",
       "    </tr>\n",
       "    <tr>\n",
       "      <td>5</td>\n",
       "      <td>Charlene</td>\n",
       "      <td>Locksley</td>\n",
       "      <td>25</td>\n",
       "    </tr>\n",
       "  </tbody>\n",
       "</table>\n",
       "</div>"
      ],
      "text/plain": [
       "   au_fname    au_lname total_quantity_sold\n",
       "0      Anne      Ringer                 148\n",
       "1  Marjorie       Green                  50\n",
       "2   Michael     O'Leary                  45\n",
       "3   Stearns  MacFeather                  45\n",
       "4    Albert      Ringer                 133\n",
       "5  Charlene    Locksley                  25"
      ]
     },
     "execution_count": 15,
     "metadata": {},
     "output_type": "execute_result"
    }
   ],
   "source": [
    "dataframe_1"
   ]
  },
  {
   "cell_type": "code",
   "execution_count": null,
   "metadata": {},
   "outputs": [],
   "source": []
  }
 ],
 "metadata": {
  "kernelspec": {
   "display_name": "Python 3",
   "language": "python",
   "name": "python3"
  },
  "language_info": {
   "codemirror_mode": {
    "name": "ipython",
    "version": 3
   },
   "file_extension": ".py",
   "mimetype": "text/x-python",
   "name": "python",
   "nbconvert_exporter": "python",
   "pygments_lexer": "ipython3",
   "version": "3.7.4"
  }
 },
 "nbformat": 4,
 "nbformat_minor": 2
}
